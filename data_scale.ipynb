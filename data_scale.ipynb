{
 "cells": [
  {
   "cell_type": "markdown",
   "metadata": {},
   "source": [
    "Homework 1: Python, Strings, Data, Scale\n",
    "----\n",
    "\n",
    "Due date: Jan 19th, 2024, 11:59 PM\n",
    "\n",
    "Points: 42\n",
    "\n",
    "Files to submit:\n",
    "- `data_scale.ipynb`\n",
    "- `yourdatafilefortask3and4` (See task 3. This file will most likely be a `.txt` or `.csv`, but can be any)\n",
    "\n",
    "Goals:\n",
    "- ensure that your python environment is set up and running\n",
    "- learn/review python skills regarding `string`s, data structures, and file manipulation \n",
    "\n",
    "Complete in groups of: __one (individually)__\n",
    "\n",
    "Allowed python modules:\n",
    "- Note that all necessary modules have already been imported for you for this assignment. (you may import any standard python libraries, plotting libraries as you'd like)\n",
    "\n",
    "\n",
    "Instructions:\n",
    "- Complete outlined problems in this notebook. \n",
    "- When you have finished, __clear the kernel__ and run your notebook \"fresh\" from top to bottom. Ensure that there are __no errors__. \n",
    "    - If a problem asks for you to write code that does result in an error (as in, the answer to the problem is an error), leave the code in your notebook but commented out so that running from top to bottom does not result in any errors.\n",
    "- Double check that you have completed Task 0.\n",
    "- Submit your work on Gradescope.\n",
    "- Double check that your submission on Gradescope looks like you believe it should.\n"
   ]
  },
  {
   "attachments": {},
   "cell_type": "markdown",
   "metadata": {
    "jp-MarkdownHeadingCollapsed": true
   },
   "source": [
    "Task 0: Name, References, Reflection (5 points)\n",
    "---\n",
    "\n",
    "**TODO:** complete this section\n",
    "\n",
    "Name: Yadah Ampofo\n",
    "\n",
    "References\n",
    "---\n",
    "List the resources you consulted to complete this homework here. Write one sentence per resource about what it provided to you. If you consulted no references to complete your assignment, write a brief sentence stating that this is the case and why it was the case for you.\n",
    "\n",
    "(Example)\n",
    "- https://docs.python.org/3/tutorial/datastructures.html\n",
    "    - Read about the the basics and syntax for data structures in python.\n",
    "\n",
    "AI Collaboration\n",
    "---\n",
    "\n",
    "I *recommend* not using LLMs to aid in this homework but instead use the documentation linked below, since it is vital for you to learn how to use Python properly. If, however, you get stuck and use generative AI or LLMs to help you complete this assignment, remember to cite it here with a short description of what you used it for, and which other resources you consulted (if any).\n",
    "\n",
    "Reflection\n",
    "----\n",
    "Answer the following questions __after__ you complete this assignment (no more than 1 sentence per question required, this section is graded on completion):\n",
    "\n",
    "1. Does this work reflect your best effort?\n",
    "Yes, it does. I gave myself ample time to review all the relevant documentation to truly understand the assignment.\n",
    "2. What was/were the most challenging part(s) of the assignment?\n",
    "Finding an adequate data set that would allow me to sufficiently meet the requirements and also answer all follow up questions.\n",
    "3. If you want feedback, what function(s) or problem(s) would you like feedback on and why?\n",
    "The elegance of my code in Markdown 47. I believe there could have been a more seamless and elegant way to extract all the time data for each count function.\n",
    "\n",
    "\n",
    "\n"
   ]
  },
  {
   "cell_type": "markdown",
   "metadata": {},
   "source": [
    "Task 1: Python Warm-up (8 points)\n",
    "----\n",
    "\n",
    "We'll warm-up by either learning about or reviewing `string`s, `for` loops, `range()`, and `list`s.\n",
    "\n",
    "Links to relevant documentation:\n",
    "- [strings](https://docs.python.org/3/library/string.html)\n",
    "- [Prof. Felix Muzny's notes on strings](https://muzny.github.io/csci1200-notes/03/5/strings.html)\n",
    "- [for loops](https://wiki.python.org/moin/ForLoop)\n",
    "- [Prof. Felix Muzny's notes on for loops](https://muzny.github.io/csci1200-notes/08/1/for_loops_basics.html)\n",
    "- [lists](https://docs.python.org/3/tutorial/datastructures.html)\n",
    "- [Prof. Felix Muzny's notes on lists](https://muzny.github.io/csci1200-notes/07/1/lists_basics.html)"
   ]
  },
  {
   "cell_type": "code",
   "execution_count": 53,
   "metadata": {},
   "outputs": [
    {
     "name": "stdout",
     "output_type": "stream",
     "text": [
      "d\n",
      "a\n",
      "t\n",
      "a\n"
     ]
    }
   ],
   "source": [
    "# define a string variable, then\n",
    "# using a for loop, iterate through the letters of a string\n",
    "\n",
    "word = \"data\"\n",
    "\n",
    "for i in word:\n",
    "    print(i)"
   ]
  },
  {
   "cell_type": "code",
   "execution_count": 54,
   "metadata": {},
   "outputs": [
    {
     "name": "stdout",
     "output_type": "stream",
     "text": [
      "orange\n",
      "apple\n",
      "grape\n"
     ]
    }
   ],
   "source": [
    "# define a list variable, then\n",
    "# using a for loop, iterate through the contents of a list\n",
    "list = ['orange', 'apple', 'grape']\n",
    "\n",
    "for each in list:\n",
    "    print(each)\n"
   ]
  },
  {
   "cell_type": "code",
   "execution_count": 55,
   "metadata": {},
   "outputs": [
    {
     "name": "stdout",
     "output_type": "stream",
     "text": [
      "data\n",
      "is\n",
      "great\n",
      "to\n"
     ]
    }
   ],
   "source": [
    "# define a string variable, then\n",
    "# using a for loop and the range() function, print out every other token \n",
    "# (you may assume tokens are separated by spaces) in the string\n",
    "\n",
    "string = \"data science is a great course to study\"\n",
    "words = string.split()\n",
    "\n",
    "for i in range(0,len(words),2):\n",
    "    print(words[i])"
   ]
  },
  {
   "cell_type": "code",
   "execution_count": 56,
   "metadata": {},
   "outputs": [
    {
     "name": "stdout",
     "output_type": "stream",
     "text": [
      "['data', 'is', 'great']\n",
      "['data', 'is', '', 'great']\n"
     ]
    }
   ],
   "source": [
    "# demonstrate the difference(s) between calling python's \n",
    "# str.split() function like str.split(' ') and str.split()\n",
    "\n",
    "string = \"data is  great\"\n",
    "\n",
    "example_1 = string.split()\n",
    "example_2 = string.split(' ')\n",
    "print(example_1)\n",
    "print(example_2)"
   ]
  },
  {
   "cell_type": "markdown",
   "metadata": {},
   "source": [
    "Task 2: Timing Python Functions (15 points)\n",
    "----\n",
    "\n",
    "In this section, we'll explore efficiency and python data structures.\n",
    "You'll work on increasing your familiarity with `list`s, `dict`s, and [`Counter`](https://docs.python.org/3/library/collections.html#collections.Counter)s.\n",
    "\n",
    "Notice that in our python function headers, we include [type hints](https://docs.python.org/3/library/typing.html)."
   ]
  },
  {
   "cell_type": "code",
   "execution_count": 57,
   "metadata": {},
   "outputs": [],
   "source": [
    "# for timing\n",
    "import time\n",
    "\n",
    "# for our fancier data structure\n",
    "from collections import Counter\n",
    "\n",
    "# for type hinting\n",
    "from typing import Callable\n",
    "\n",
    "# for graphing\n",
    "import matplotlib.pyplot as plt\n",
    "\n",
    "# for random number generation\n",
    "import random"
   ]
  },
  {
   "cell_type": "code",
   "execution_count": 58,
   "metadata": {},
   "outputs": [
    {
     "name": "stdout",
     "output_type": "stream",
     "text": [
      "That took: 0.0 seconds!\n"
     ]
    }
   ],
   "source": [
    "# provided\n",
    "def timer(fun: Callable, tokens: list) -> float:\n",
    "    \"\"\"\n",
    "    measure (in seconds) the time that it takes to run a\n",
    "    function that operates on a list of strings (tokens)\n",
    "\n",
    "    Args:\n",
    "    fun: Callable\n",
    "    tokens: list\n",
    "\n",
    "    return:\n",
    "    float (seconds)\n",
    "    \"\"\"\n",
    "    start = time.time()\n",
    "    fun(tokens)\n",
    "    end = time.time()\n",
    "    return end - start\n",
    "\n",
    "# call like \n",
    "# len is the funtion that is being timed\n",
    "print(\"That took:\", timer(len, [\"this\", \"is\", \"a\", \"test\"]), \"seconds!\")"
   ]
  },
  {
   "cell_type": "code",
   "execution_count": 59,
   "metadata": {},
   "outputs": [],
   "source": [
    "# TODO: implement the following functions (function signatures are provided for you)\n",
    "\n",
    "def count_list(tokens: list) -> dict:\n",
    "    \"\"\"\n",
    "    Count the number of occurrences of each token in a list of tokens.\n",
    "    Use the list.count() method.\n",
    "\n",
    "    Args:\n",
    "    tokens: list of items (often tokens)\n",
    "\n",
    "    return:\n",
    "    dict (mapping from token to count)\n",
    "    \"\"\"\n",
    "\n",
    "    my_dict = {}\n",
    "    for token in tokens:\n",
    "        count = tokens.count(token) #using the list.count() method\n",
    "        my_dict[token] = count \n",
    "    return my_dict \n",
    "   \n",
    "    \n",
    "   \n",
    "\n",
    "def count_dict(tokens: list) -> dict:\n",
    "    \"\"\"\n",
    "    Count the number of occurrences of each token in a list of tokens.\n",
    "    Do not use the list.count() method. Do not use a Counter.\n",
    "    If you would like to use any method/function other than len, it must be\n",
    "    okay'd with the teaching staff.\n",
    "\n",
    "    Args:\n",
    "    tokens: list of items (often tokens)\n",
    "\n",
    "    return:\n",
    "    dict (mapping from token to count)\n",
    "    \"\"\"\n",
    "    my_dict = {}\n",
    "\n",
    "    for token in tokens:\n",
    "        the_count = 0\n",
    "\n",
    "        for item in tokens:\n",
    "            if item == token:\n",
    "                the_count += 1\n",
    "\n",
    "        my_dict[token] = the_count \n",
    "    return my_dict \n",
    "\n",
    "def count_counter(tokens: list) -> Counter:\n",
    "    \"\"\"\n",
    "    Count the number of occurrences of each token in a list of tokens.\n",
    "    Use a Counter.\n",
    "    Do not use the list.count() method or any other list/dict functions/methods.\n",
    "\n",
    "    Args:\n",
    "    tokens: list of items (often tokens)\n",
    "\n",
    "    return:\n",
    "    Counter (mapping from token to count)\n",
    "    \"\"\"\n",
    "    counter = Counter()\n",
    "\n",
    "    for token in tokens:\n",
    "        counter[token] += 1\n",
    "\n",
    "    return counter\n"
   ]
  },
  {
   "cell_type": "code",
   "execution_count": 60,
   "metadata": {},
   "outputs": [
    {
     "name": "stdout",
     "output_type": "stream",
     "text": [
      "Test #1 for Count_list  with no duplicates {'this': 1, 'is': 1, 'a': 1, 'test': 1, 'required': 1, 'by': 1, 'the': 1, 'university': 1}\n",
      "Test #1 for Count_list with duplicates {'this': 1, 'is': 2, 'a': 2, 'test': 2, 'which': 1, 'requirement': 1, 'takenby': 1, 'all': 1, 'students': 1}\n",
      "Test #2 for Count_dict with no duplicates {'this': 1, 'is': 1, 'a': 1, 'test': 1, 'required': 1, 'by': 1, 'the': 1, 'university': 1}\n",
      "Test #2  for Count_dict  with duplicates {'this': 1, 'is': 2, 'a': 2, 'test': 2, 'which': 1, 'requirement': 1, 'takenby': 1, 'all': 1, 'students': 1}\n",
      "Test #3 for Count_counter with no duplicates Counter({'this': 1, 'is': 1, 'a': 1, 'test': 1, 'required': 1, 'by': 1, 'the': 1, 'university': 1})\n",
      "Test #3 for Count_counter with duplicates Counter({'is': 2, 'a': 2, 'test': 2, 'this': 1, 'which': 1, 'requirement': 1, 'takenby': 1, 'all': 1, 'students': 1})\n"
     ]
    }
   ],
   "source": [
    "# TODO: verify that your count_* functions are correct and consistent with one another\n",
    "# Make sure to test both if the list does not have duplicates and if it does\n",
    "\n",
    "test_tokens = [\"this\", \"is\", \"a\", \"test\", \"required\", \"by\", \"the\", \"university\"] \n",
    "result = count_list(test_tokens)\n",
    "print(\"Test #1 for Count_list  with no duplicates\", result)\n",
    "\n",
    "test_tokens = [\"this\", \"is\", \"a\", \"test\", \"which\", \"is\", \"a\", \"requirement\", \"test\", \"taken\" \"by\", \"all\", \"students\"] \n",
    "result = count_list(test_tokens)\n",
    "print(\"Test #1 for Count_list with duplicates\", result)\n",
    "\n",
    "test_tokens = [\"this\", \"is\", \"a\", \"test\", \"required\", \"by\", \"the\", \"university\"] \n",
    "result = count_dict(test_tokens)\n",
    "print(\"Test #2 for Count_dict with no duplicates\", result)\n",
    "\n",
    "test_tokens = [\"this\", \"is\", \"a\", \"test\", \"which\", \"is\", \"a\", \"requirement\", \"test\", \"taken\" \"by\", \"all\", \"students\"] \n",
    "result = count_dict(test_tokens)\n",
    "print(\"Test #2  for Count_dict  with duplicates\", result)\n",
    "\n",
    "test_tokens = [\"this\", \"is\", \"a\", \"test\", \"required\", \"by\", \"the\", \"university\"] \n",
    "result = count_counter(test_tokens)\n",
    "print(\"Test #3 for Count_counter with no duplicates\", result)\n",
    "\n",
    "test_tokens = [\"this\", \"is\", \"a\", \"test\", \"which\", \"is\", \"a\", \"requirement\", \"test\", \"taken\" \"by\", \"all\", \"students\"] \n",
    "result = count_counter(test_tokens)\n",
    "print(\"Test #3 for Count_counter with duplicates\", result)"
   ]
  },
  {
   "cell_type": "code",
   "execution_count": 61,
   "metadata": {},
   "outputs": [
    {
     "name": "stdout",
     "output_type": "stream",
     "text": [
      "That took: 3.0994415283203125e-06 seconds!\n",
      "That took: 5.245208740234375e-06 seconds!\n",
      "That took: 0.00024890899658203125 seconds!\n",
      "That took: 0.0005419254302978516 seconds!\n",
      "That took: 0.0015180110931396484 seconds!\n",
      "That took: 0.0021560192108154297 seconds!\n",
      "That took: 0.004111051559448242 seconds!\n",
      "------------------\n",
      "That took: 5.0067901611328125e-06 seconds!\n",
      "That took: 1.0967254638671875e-05 seconds!\n",
      "That took: 0.0008749961853027344 seconds!\n",
      "That took: 0.0019299983978271484 seconds!\n",
      "That took: 0.0054798126220703125 seconds!\n",
      "That took: 0.008157014846801758 seconds!\n",
      "That took: 0.013561248779296875 seconds!\n",
      "------------------\n",
      "That took: 6.9141387939453125e-06 seconds!\n",
      "That took: 3.0994415283203125e-06 seconds!\n",
      "That took: 2.002716064453125e-05 seconds!\n",
      "That took: 2.8848648071289062e-05 seconds!\n",
      "That took: 4.673004150390625e-05 seconds!\n",
      "That took: 5.2928924560546875e-05 seconds!\n",
      "That took: 7.104873657226562e-05 seconds!\n"
     ]
    }
   ],
   "source": [
    "# TODO: create a graph with three lines, one for each of the three count_* functions\n",
    "# x-axis should be the number of items in the list given to the function (go up to at least 500)\n",
    "# y-axis should be the time taken to run the function\n",
    "# the graph should have a legend indicating which line is which (use plt.legend() to make this happen)\n",
    "\n",
    "# you'll need to generate one (or more) list(s) of items to be counted.\n",
    "# we recommend using the random module to generate random integers\n",
    "\n",
    "# ten_ints = [random.randint(0, 10) for i in range(10)]\n",
    "# print(ten_ints)\n",
    "\n",
    "ten_ints = [random.randint(0, 10) for i in range(10)]\n",
    "twenty_ints = [random.randint(0, 10) for i in range(20)]\n",
    "two_hundred_ints = [random.randint(0, 10) for i in range(200)]\n",
    "three_hundred_ints = [random.randint(0, 10) for i in range(300)]\n",
    "five_hundred_ints = [random.randint(0, 10) for i in range(500)]\n",
    "six_hundred_ints = [random.randint(0, 10) for i in range(600)]\n",
    "eight_hundred_ints = [random.randint(0, 10) for i in range(800)]\n",
    "\n",
    "\n",
    "# Count list time \n",
    "print(\"That took:\", timer(count_list, ten_ints), \"seconds!\")\n",
    "print(\"That took:\", timer(count_list, twenty_ints), \"seconds!\")\n",
    "print(\"That took:\", timer(count_list, two_hundred_ints), \"seconds!\")\n",
    "print(\"That took:\", timer(count_list, three_hundred_ints), \"seconds!\")\n",
    "print(\"That took:\", timer(count_list, five_hundred_ints), \"seconds!\")\n",
    "print(\"That took:\", timer(count_list, six_hundred_ints), \"seconds!\")\n",
    "print(\"That took:\", timer(count_list, eight_hundred_ints), \"seconds!\")\n",
    "print(\"------------------\")\n",
    "\n",
    "# Count dict time \n",
    "print(\"That took:\", timer(count_dict, ten_ints), \"seconds!\")\n",
    "print(\"That took:\", timer(count_dict, twenty_ints), \"seconds!\")\n",
    "print(\"That took:\", timer(count_dict, two_hundred_ints), \"seconds!\")\n",
    "print(\"That took:\", timer(count_dict, three_hundred_ints), \"seconds!\")\n",
    "print(\"That took:\", timer(count_dict, five_hundred_ints), \"seconds!\")\n",
    "print(\"That took:\", timer(count_dict, six_hundred_ints), \"seconds!\")\n",
    "print(\"That took:\", timer(count_dict, eight_hundred_ints), \"seconds!\")\n",
    "\n",
    "# Count counter time \n",
    "print(\"------------------\")\n",
    "print(\"That took:\", timer(count_counter, ten_ints), \"seconds!\")\n",
    "print(\"That took:\", timer(count_counter, twenty_ints), \"seconds!\")\n",
    "print(\"That took:\", timer(count_counter, two_hundred_ints), \"seconds!\")\n",
    "print(\"That took:\", timer(count_counter, three_hundred_ints), \"seconds!\")\n",
    "print(\"That took:\", timer(count_counter, five_hundred_ints), \"seconds!\")\n",
    "print(\"That took:\", timer(count_counter, six_hundred_ints), \"seconds!\")\n",
    "print(\"That took:\", timer(count_counter, eight_hundred_ints), \"seconds!\")\n",
    "\n"
   ]
  },
  {
   "cell_type": "code",
   "execution_count": 62,
   "metadata": {},
   "outputs": [
    {
     "data": {
      "image/png": "[encoded data removed]",
      "text/plain": [
       "<Figure size 640x480 with 1 Axes>"
      ]
     },
     "metadata": {},
     "output_type": "display_data"
    }
   ],
   "source": [
    "import matplotlib.pyplot as plt\n",
    "import numpy as np\n",
    "\n",
    "\n",
    "x = np.array([10,20,200,300,500,600,800]) \n",
    "ypoints_1 = np.array([5.9604644775390625e-06, 5.9604644775390625e-06, 0.0003459453582763672, 0.0007607936859130859, 0.0020220279693603516, 0.002900838851928711 , 0.005036115646362305 ])\n",
    "ypoints_2 = np.array([5.9604644775390625e-06, 1.1920928955078125e-05, 0.0010571479797363281, 0.0022640228271484375, 0.0061550140380859375, 0.008275985717773438, 0.01363825798034668 \n",
    "])\n",
    "ypoints_3 = np.array([2.7179718017578125e-05, 4.0531158447265625e-06, 2.09808349609375e-05, 2.8848648071289062e-05, 4.696846008300781e-05, 5.602836608886719e-05,  7.295608520507812e-05 ])\n",
    "\n",
    "\n",
    "plt.plot(x, ypoints_1, label='count_list')\n",
    "plt.plot(x, ypoints_2, label='count_dict')\n",
    "plt.plot(x, ypoints_3, label='count_counter')\n",
    "\n",
    "plt.ylabel('Time (seconds)')\n",
    "plt.xlabel('Number of items')\n",
    "plt.title('Graph of count_* functions')\n",
    "plt.legend()\n",
    "\n",
    "plt.show()\n"
   ]
  },
  {
   "cell_type": "markdown",
   "metadata": {},
   "source": [
    "Task 3: Real World Data (8 points)\n",
    "----\n",
    "\n",
    "In this section, you'll find some real world text data *of interest to you* and run some analysis on this data. The data that you choose can include labels, but if it does, do not include those labels in your counts of tokens, etc.\n",
    "\n",
    "\n",
    "Size requirements:\n",
    "- your file must contain a minimum of 10,000 tokens (as measured by at least *one* of your tokenization schemes).\n",
    "\n",
    "\n",
    "Key vocabulary:\n",
    "\n",
    "__token__: The unit that we will operate on when processing text. Normally corresponds roughly to \"words\", and you can assume that this is the case for this homework."
   ]
  },
  {
   "cell_type": "code",
   "execution_count": 63,
   "metadata": {},
   "outputs": [],
   "source": [
    "# TODO\n",
    "# the file should be in the same folder as this notebook because when you \n",
    "# submit this notebook, you will also submit the file and the backend of the \n",
    "# system expects them to be in the same directory\n",
    "import pandas as pd\n",
    "FILE = pd.read_csv('Amazon_Food_Reviews.csv')\n",
    "\n"
   ]
  },
  {
   "cell_type": "code",
   "execution_count": 64,
   "metadata": {},
   "outputs": [
    {
     "data": {
      "text/html": [
       "<div>\n",
       "<style scoped>\n",
       "    .dataframe tbody tr th:only-of-type {\n",
       "        vertical-align: middle;\n",
       "    }\n",
       "\n",
       "    .dataframe tbody tr th {\n",
       "        vertical-align: top;\n",
       "    }\n",
       "\n",
       "    .dataframe thead th {\n",
       "        text-align: right;\n",
       "    }\n",
       "</style>\n",
       "<table border=\"1\" class=\"dataframe\">\n",
       "  <thead>\n",
       "    <tr style=\"text-align: right;\">\n",
       "      <th></th>\n",
       "      <th>Id</th>\n",
       "      <th>ProductId</th>\n",
       "      <th>UserId</th>\n",
       "      <th>ProfileName</th>\n",
       "      <th>HelpfulnessNumerator</th>\n",
       "      <th>HelpfulnessDenominator</th>\n",
       "      <th>Score</th>\n",
       "      <th>Time</th>\n",
       "      <th>Summary</th>\n",
       "      <th>Text</th>\n",
       "    </tr>\n",
       "  </thead>\n",
       "  <tbody>\n",
       "    <tr>\n",
       "      <th>0</th>\n",
       "      <td>1</td>\n",
       "      <td>B001E4KFG0</td>\n",
       "      <td>A3SGXH7AUHU8GW</td>\n",
       "      <td>delmartian</td>\n",
       "      <td>1</td>\n",
       "      <td>1</td>\n",
       "      <td>5</td>\n",
       "      <td>1303862400</td>\n",
       "      <td>Good Quality Dog Food</td>\n",
       "      <td>I have bought several of the Vitality canned d...</td>\n",
       "    </tr>\n",
       "    <tr>\n",
       "      <th>1</th>\n",
       "      <td>2</td>\n",
       "      <td>B00813GRG4</td>\n",
       "      <td>A1D87F6ZCVE5NK</td>\n",
       "      <td>dll pa</td>\n",
       "      <td>0</td>\n",
       "      <td>0</td>\n",
       "      <td>1</td>\n",
       "      <td>1346976000</td>\n",
       "      <td>Not as Advertised</td>\n",
       "      <td>Product arrived labeled as Jumbo Salted Peanut...</td>\n",
       "    </tr>\n",
       "    <tr>\n",
       "      <th>2</th>\n",
       "      <td>3</td>\n",
       "      <td>B000LQOCH0</td>\n",
       "      <td>ABXLMWJIXXAIN</td>\n",
       "      <td>Natalia Corres \"Natalia Corres\"</td>\n",
       "      <td>1</td>\n",
       "      <td>1</td>\n",
       "      <td>4</td>\n",
       "      <td>1219017600</td>\n",
       "      <td>\"Delight\" says it all</td>\n",
       "      <td>This is a confection that has been around a fe...</td>\n",
       "    </tr>\n",
       "    <tr>\n",
       "      <th>3</th>\n",
       "      <td>4</td>\n",
       "      <td>B000UA0QIQ</td>\n",
       "      <td>A395BORC6FGVXV</td>\n",
       "      <td>Karl</td>\n",
       "      <td>3</td>\n",
       "      <td>3</td>\n",
       "      <td>2</td>\n",
       "      <td>1307923200</td>\n",
       "      <td>Cough Medicine</td>\n",
       "      <td>If you are looking for the secret ingredient i...</td>\n",
       "    </tr>\n",
       "    <tr>\n",
       "      <th>4</th>\n",
       "      <td>5</td>\n",
       "      <td>B006K2ZZ7K</td>\n",
       "      <td>A1UQRSCLF8GW1T</td>\n",
       "      <td>Michael D. Bigham \"M. Wassir\"</td>\n",
       "      <td>0</td>\n",
       "      <td>0</td>\n",
       "      <td>5</td>\n",
       "      <td>1350777600</td>\n",
       "      <td>Great taffy</td>\n",
       "      <td>Great taffy at a great price.  There was a wid...</td>\n",
       "    </tr>\n",
       "  </tbody>\n",
       "</table>\n",
       "</div>"
      ],
      "text/plain": [
       "   Id   ProductId          UserId                      ProfileName  \\\n",
       "0   1  B001E4KFG0  A3SGXH7AUHU8GW                       delmartian   \n",
       "1   2  B00813GRG4  A1D87F6ZCVE5NK                           dll pa   \n",
       "2   3  B000LQOCH0   ABXLMWJIXXAIN  Natalia Corres \"Natalia Corres\"   \n",
       "3   4  B000UA0QIQ  A395BORC6FGVXV                             Karl   \n",
       "4   5  B006K2ZZ7K  A1UQRSCLF8GW1T    Michael D. Bigham \"M. Wassir\"   \n",
       "\n",
       "   HelpfulnessNumerator  HelpfulnessDenominator  Score        Time  \\\n",
       "0                     1                       1      5  1303862400   \n",
       "1                     0                       0      1  1346976000   \n",
       "2                     1                       1      4  1219017600   \n",
       "3                     3                       3      2  1307923200   \n",
       "4                     0                       0      5  1350777600   \n",
       "\n",
       "                 Summary                                               Text  \n",
       "0  Good Quality Dog Food  I have bought several of the Vitality canned d...  \n",
       "1      Not as Advertised  Product arrived labeled as Jumbo Salted Peanut...  \n",
       "2  \"Delight\" says it all  This is a confection that has been around a fe...  \n",
       "3         Cough Medicine  If you are looking for the secret ingredient i...  \n",
       "4            Great taffy  Great taffy at a great price.  There was a wid...  "
      ]
     },
     "execution_count": 64,
     "metadata": {},
     "output_type": "execute_result"
    }
   ],
   "source": [
    "# read the contents of your file in, however you'd like\n",
    "FILE = pd.read_csv('Amazon_Food_Reviews.csv')\n",
    "FILE.head()"
   ]
  },
  {
   "cell_type": "code",
   "execution_count": 65,
   "metadata": {},
   "outputs": [
    {
     "name": "stdout",
     "output_type": "stream",
     "text": [
      "Total number of lines in the file 568454\n"
     ]
    }
   ],
   "source": [
    "# how many lines are in your file?\n",
    "num_lines = FILE.shape[0]\n",
    "print(\"Total number of lines in the file\", num_lines)\n"
   ]
  },
  {
   "cell_type": "code",
   "execution_count": 66,
   "metadata": {},
   "outputs": [
    {
     "name": "stdout",
     "output_type": "stream",
     "text": [
      "num_tokens 45626405\n"
     ]
    }
   ],
   "source": [
    "# tokenize your data using the str.split() function. How many tokens are there?\n",
    "\n",
    "FILE['Text'] = FILE['Text'].str.split()\n",
    "\n",
    "num_tokens = FILE['Text'].apply(len).sum()\n",
    "\n",
    "print(\"num_tokens\", num_tokens)"
   ]
  },
  {
   "attachments": {},
   "cell_type": "markdown",
   "metadata": {},
   "source": [
    "Find five specific examples of difficult-to-tokenize sequences of letters in your data.\n",
    "- Example 1 : like -- well -- tuna\n",
    "- Example 2 : Bit-O-Honey\n",
    "- Example 3 : wasn't \n",
    "- Example 4 : Serve-A-Lemon\n",
    "- Example 5 : i'm"
   ]
  },
  {
   "cell_type": "markdown",
   "metadata": {},
   "source": [
    "Task 4: Data Write-Up (6 points)\n",
    "---\n",
    "\n",
    "Every time you use a data set in an NLP application (or in any software application), you should be able to answer a set of questions about that data. Answer these now. Default to no more than 1 sentence per question needed. If more explanation is necessary, do give it.\n"
   ]
  },
  {
   "attachments": {},
   "cell_type": "markdown",
   "metadata": {},
   "source": [
    "1. Where did you get the data from?\n",
    "   Kaggle.com\n",
    "\n",
    "2. How was the data collected (where did the people acquiring the data get it from and how)?\n",
    " The data was collected were reviews of fine foods from amazon. The authors of collected the data using a web using a crawler on public sources of data. \n",
    "  \n",
    "3. How large is the dataset? (copy # of lines and # of tokens from above)\n",
    "  The dataset has 568454 lines and 45626405 tokens\n",
    "4. Is your dataset a subset of a larger dataset or the entirety of a dataset? (e.g. the first half of reviews from the dataset.... vs. all reviews from ...)\n",
    "  The dataset is the entirety of a dataset\n",
    "5. What is your data? (i.e. newswire, tweets, books, blogs, etc)\n",
    "  the data is amazon reviews \n",
    "6. Who produced the data? (who were the authors of the text? Your answer might be a specific person or a particular group of people)\n",
    "    J. McAuley and J. Leskovec"
   ]
  },
  {
   "cell_type": "markdown",
   "metadata": {},
   "source": []
  }
 ],
 "metadata": {
  "kernelspec": {
   "display_name": "Python 3",
   "language": "python",
   "name": "python3"
  },
  "language_info": {
   "codemirror_mode": {
    "name": "ipython",
    "version": 3
   },
   "file_extension": ".py",
   "mimetype": "text/x-python",
   "name": "python",
   "nbconvert_exporter": "python",
   "pygments_lexer": "ipython3",
   "version": "3.10.7"
  },
  "vscode": {
   "interpreter": {
    "hash": "aee8b7b246df8f9039afb4144a1f6fd8d2ca17a180786b69acc140d282b71a49"
   }
  }
 },
 "nbformat": 4,
 "nbformat_minor": 4
}
